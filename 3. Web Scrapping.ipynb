{
 "cells": [
  {
   "cell_type": "code",
   "execution_count": null,
   "id": "broadband-arrival",
   "metadata": {},
   "outputs": [],
   "source": [
    "import pandas as pd\n",
    "from selenium.webdriver.chrome.options import Options\n",
    "from fake_useragent import UserAgent\n",
    "import time, os\n",
    "from selenium import webdriver\n",
    "from webdriver_manager.chrome import ChromeDriverManager\n",
    "from bs4 import BeautifulSoup"
   ]
  },
  {
   "cell_type": "code",
   "execution_count": null,
   "id": "random-workplace",
   "metadata": {},
   "outputs": [],
   "source": [
    "import warnings\n",
    "warnings.filterwarnings('ignore')"
   ]
  },
  {
   "cell_type": "markdown",
   "id": "broke-clone",
   "metadata": {},
   "source": [
    "# Web Scraping: Selenium"
   ]
  },
  {
   "cell_type": "code",
   "execution_count": null,
   "id": "affected-supplier",
   "metadata": {},
   "outputs": [],
   "source": [
    "options = Options()\n",
    "ua = UserAgent()\n",
    "user_agent = ua.random\n",
    "print(user_agent)\n",
    "options.add_argument(user_agent)\n",
    "chromedriver = \"/Applications/chromedriver\"\n",
    "os.environ[\"webdriver.chrome.driver\"] = chromedriver\n",
    "web = \"https://www.aspca.org/adopt-pet/adoptable-dogs-your-local-shelter#petfocus_0=&page_0=2&breed_0=&sex_0=&distance_0=100000&location_0=90703&action_0=search\""
   ]
  },
  {
   "cell_type": "code",
   "execution_count": null,
   "id": "retired-jenny",
   "metadata": {
    "scrolled": true
   },
   "outputs": [],
   "source": [
    "driver = webdriver.Chrome(ChromeDriverManager().install())\n",
    "driver.get(web)"
   ]
  },
  {
   "cell_type": "markdown",
   "id": "hindu-command",
   "metadata": {},
   "source": [
    "### Testing scraping data"
   ]
  },
  {
   "cell_type": "code",
   "execution_count": null,
   "id": "super-august",
   "metadata": {},
   "outputs": [],
   "source": [
    "soup = BeautifulSoup(driver.page_source, 'html.parser')\n",
    "x=soup.find_all('img', class_=\"rgtkSearchPetPicImg\")"
   ]
  },
  {
   "cell_type": "code",
   "execution_count": null,
   "id": "fresh-jimmy",
   "metadata": {},
   "outputs": [],
   "source": [
    "soup = BeautifulSoup(driver.page_source, 'html.parser')\n",
    "y=soup.find_all('div', class_=\"rgtkSearchPetName\")\n",
    "str(y[0]).split(', ')[1]\n",
    "#https://www.aspca.org/adopt-pet/adoptable-dogs-your-local-shelter#action_0=pet&animalID_0=16616977&petIndex_0=1"
   ]
  },
  {
   "cell_type": "code",
   "execution_count": null,
   "id": "dress-faculty",
   "metadata": {},
   "outputs": [],
   "source": [
    "driver.quit()"
   ]
  },
  {
   "cell_type": "markdown",
   "id": "ongoing-disabled",
   "metadata": {},
   "source": [
    "### For loop for scrapping all data"
   ]
  },
  {
   "cell_type": "code",
   "execution_count": null,
   "id": "apart-sunglasses",
   "metadata": {},
   "outputs": [],
   "source": [
    "driver = webdriver.Chrome(ChromeDriverManager().install())"
   ]
  },
  {
   "cell_type": "code",
   "execution_count": null,
   "id": "loved-transcript",
   "metadata": {},
   "outputs": [],
   "source": [
    "image_lst=[]\n",
    "web_lst=[]"
   ]
  },
  {
   "cell_type": "code",
   "execution_count": null,
   "id": "divided-sensitivity",
   "metadata": {},
   "outputs": [],
   "source": [
    "for page in range(5,873):\n",
    "    driver = webdriver.Chrome(ChromeDriverManager().install())\n",
    "    web = \"https://www.aspca.org/adopt-pet/adoptable-dogs-your-local-shelter#petfocus_0=&page_0={}&breed_0=&sex_0=&distance_0=100000&location_0=90703&action_0=search\".format(page)\n",
    "    driver.get(web)\n",
    "    time.sleep(1)\n",
    "    soup = BeautifulSoup(driver.page_source, 'html.parser')\n",
    "    x=soup.find_all('img', class_=\"rgtkSearchPetPicImg\")\n",
    "    y=soup.find_all('div', class_=\"rgtkSearchPetName\")\n",
    "    for i in range(len(x)):\n",
    "        image_lst.append(str(x[i]).split('src=\"')[1].split('\"')[0])\n",
    "        web_lst.append(\"https://www.aspca.org/adopt-pet/adoptable-dogs-your-local-shelter#action_0=pet&animalID_0={}&petIndex_0=0\".format(str(x[i]).split('src=\"')[1].split('\"')[0].split('/')[8]))\n",
    "    time.sleep(1)\n",
    "    driver.quit()"
   ]
  },
  {
   "cell_type": "code",
   "execution_count": null,
   "id": "prepared-discussion",
   "metadata": {},
   "outputs": [],
   "source": [
    "len(image_lst), len(web_lst)"
   ]
  },
  {
   "cell_type": "markdown",
   "id": "experimental-affiliation",
   "metadata": {},
   "source": [
    "### Save file"
   ]
  },
  {
   "cell_type": "code",
   "execution_count": null,
   "id": "armed-humanitarian",
   "metadata": {},
   "outputs": [],
   "source": [
    "image_lst_df.to_csv('pet_image.csv')\n",
    "web_lst_df.to_csv('pet_web.csv')"
   ]
  },
  {
   "cell_type": "code",
   "execution_count": null,
   "id": "federal-increase",
   "metadata": {},
   "outputs": [],
   "source": [
    "image_lst_df=pd.DataFrame(image_lst)\n",
    "web_lst_df=pd.DataFrame(web_lst)"
   ]
  },
  {
   "cell_type": "code",
   "execution_count": null,
   "id": "auburn-illness",
   "metadata": {},
   "outputs": [],
   "source": [
    "image_web_lst_df=image_lst_df\n",
    "#pd.concat([image_lst_df,web_lst_df])"
   ]
  },
  {
   "cell_type": "code",
   "execution_count": null,
   "id": "metropolitan-blank",
   "metadata": {},
   "outputs": [],
   "source": [
    "image_web_lst_df['web']=web_lst_df"
   ]
  },
  {
   "cell_type": "code",
   "execution_count": null,
   "id": "metallic-mozambique",
   "metadata": {},
   "outputs": [],
   "source": [
    "image_web_lst_df.columns=['image','web']"
   ]
  },
  {
   "cell_type": "code",
   "execution_count": null,
   "id": "north-willow",
   "metadata": {},
   "outputs": [],
   "source": [
    "image_web_lst_df.to_csv('pet_image_web.csv')"
   ]
  },
  {
   "cell_type": "markdown",
   "id": "improving-bones",
   "metadata": {},
   "source": [
    "# Scrap for adoptable dog profile"
   ]
  },
  {
   "cell_type": "code",
   "execution_count": null,
   "id": "first-musical",
   "metadata": {},
   "outputs": [],
   "source": [
    "pet_image_web=pd.read_csv('pet_image_web.csv')"
   ]
  },
  {
   "cell_type": "code",
   "execution_count": null,
   "id": "proprietary-leave",
   "metadata": {},
   "outputs": [],
   "source": [
    "pet_image_web.columns=['age', 'image', 'web']\n",
    "pet_image_web['age']=0\n",
    "pet_image_web['name']=0\n",
    "pet_image_web['size']=0\n",
    "pet_image_web['sex']=0"
   ]
  },
  {
   "cell_type": "code",
   "execution_count": null,
   "id": "every-portuguese",
   "metadata": {},
   "outputs": [],
   "source": [
    "options = Options()\n",
    "ua = UserAgent()\n",
    "user_agent = ua.random\n",
    "print(user_agent)\n",
    "options.add_argument(user_agent)\n",
    "chromedriver = \"/Applications/chromedriver\"\n",
    "os.environ[\"webdriver.chrome.driver\"] = chromedriver\n",
    "web = pet_image_web.web[1]"
   ]
  },
  {
   "cell_type": "code",
   "execution_count": null,
   "id": "directed-arabic",
   "metadata": {},
   "outputs": [],
   "source": [
    "driver = webdriver.Chrome(ChromeDriverManager().install())\n",
    "driver.get(web)"
   ]
  },
  {
   "cell_type": "code",
   "execution_count": null,
   "id": "minus-ballet",
   "metadata": {},
   "outputs": [],
   "source": [
    "soup = BeautifulSoup(driver.page_source, 'html.parser')\n",
    "x=soup.find('div', class_=\"rgtkPetInfoIndented\",id=\"rgtkPetInfoIndented_0\")\n",
    "x\n",
    "2021-int(str(x).split('<li>Birth date: ')[1].split('/')[2].split(' ')[0])\n",
    "#2021-int(str(x).split('<li>Birth date: ')[1].split('/')[2].split(' ')[0])"
   ]
  },
  {
   "cell_type": "code",
   "execution_count": null,
   "id": "remarkable-accuracy",
   "metadata": {},
   "outputs": [],
   "source": [
    "soup = BeautifulSoup(driver.page_source, 'html.parser')\n",
    "name=str(soup.find('div', class_=\"rgtkPetTitleName\",id=\"rgtkPetTitleName_0\")).split('>')[1].split('<')[0]\n",
    "size=str(soup.find('span', class_=\"rgtkPetDetailsGeneralSizePotential\",id=\"rgtkPetDetailsGeneralSizePotential_0\")).split('>')[1].split('<')[0]\n",
    "age=str(soup.find('span', class_=\"rgtkPetDetailsAge\",id=\"rgtkPetDetailsAge_0\")).split('>')[1].split('<')[0]\n",
    "sex=str(soup.find('span', class_=\"rgtkPetDetailsSex\",id=\"rgtkPetDetailsSex_0\")).split('>')[1].split('<')[0]\n",
    "name,size,age,sex\n"
   ]
  },
  {
   "cell_type": "code",
   "execution_count": null,
   "id": "closed-opposition",
   "metadata": {},
   "outputs": [],
   "source": [
    "for i, web in enumerate(pet_image_web.web[range(0,len(pet_image_web))]):\n",
    "    driver = webdriver.Chrome(ChromeDriverManager().install())\n",
    "    driver.get(web)\n",
    "    time.sleep(1.5)\n",
    "    soup = BeautifulSoup(driver.page_source, 'html.parser')\n",
    "    try:\n",
    "        name=str(soup.find('div', class_=\"rgtkPetTitleName\",id=\"rgtkPetTitleName_0\")).split('>')[1].split('<')[0]\n",
    "        pet_image_web.name[i]=name\n",
    "    except:\n",
    "        pet_image_web.name[i]=None\n",
    "    \n",
    "    try:\n",
    "        size=str(soup.find('span', class_=\"rgtkPetDetailsGeneralSizePotential\",id=\"rgtkPetDetailsGeneralSizePotential_0\")).split('>')[1].split('<')[0]\n",
    "        pet_image_web['size'][i]=size\n",
    "    except:\n",
    "        pet_image_web['size'][i]=None\n",
    "    \n",
    "    \n",
    "    try:\n",
    "        sex=str(soup.find('span', class_=\"rgtkPetDetailsSex\",id=\"rgtkPetDetailsSex_0\")).split('>')[1].split('<')[0]\n",
    "        pet_image_web.sex[i]=sex\n",
    "    except:\n",
    "        pet_image_web.sex[i]=None\n",
    "       \n",
    "    \n",
    "    try:\n",
    "        age=str(soup.find('span', class_=\"rgtkPetDetailsAge\",id=\"rgtkPetDetailsAge_0\")).split('>')[1].split('<')[0]\n",
    "        pet_image_web.age[i]=age\n",
    "    except:\n",
    "        pet_image_web.age[i]=None\n",
    "        \n",
    "    print(i, sex,age, size,name)\n",
    "    #time.sleep(1)\n",
    "    driver.quit()"
   ]
  },
  {
   "cell_type": "code",
   "execution_count": null,
   "id": "stuck-tattoo",
   "metadata": {},
   "outputs": [],
   "source": [
    "pet_image_web.to_csv('pet_image_web2.csv')"
   ]
  },
  {
   "cell_type": "markdown",
   "id": "indoor-least",
   "metadata": {},
   "source": [
    "### Check nan cell and rerun for loop"
   ]
  },
  {
   "cell_type": "code",
   "execution_count": null,
   "id": "intermediate-charity",
   "metadata": {},
   "outputs": [],
   "source": [
    "index_nan=pet_image_web.index[pd.isna(pet_image_web1['age'])]\n",
    "index_nan"
   ]
  },
  {
   "cell_type": "code",
   "execution_count": null,
   "id": "brutal-hardware",
   "metadata": {},
   "outputs": [],
   "source": [
    "pet_image_web.web[index_nan].index"
   ]
  },
  {
   "cell_type": "code",
   "execution_count": null,
   "id": "southwest-norman",
   "metadata": {},
   "outputs": [],
   "source": [
    "driver = webdriver.Chrome(ChromeDriverManager().install())\n",
    "for web, i in zip(pet_image_web.web[index_nan],index_nan):\n",
    "    driver.get(web)\n",
    "    time.sleep(3)\n",
    "    soup = BeautifulSoup(driver.page_source, 'html.parser')\n",
    "    try:\n",
    "        name=str(soup.find('div', class_=\"rgtkPetTitleName\",id=\"rgtkPetTitleName_0\")).split('>')[1].split('<')[0]\n",
    "        pet_image_web.name[i]=name\n",
    "    except:\n",
    "        pet_image_web.name[i]=None\n",
    "    \n",
    "    try:\n",
    "        size=str(soup.find('span', class_=\"rgtkPetDetailsGeneralSizePotential\",id=\"rgtkPetDetailsGeneralSizePotential_0\")).split('>')[1].split('<')[0]\n",
    "        pet_image_web['size'][i]=size\n",
    "    except:\n",
    "        pet_image_web['size'][i]=None\n",
    "    \n",
    "    \n",
    "    try:\n",
    "        sex=str(soup.find('span', class_=\"rgtkPetDetailsSex\",id=\"rgtkPetDetailsSex_0\")).split('>')[1].split('<')[0]\n",
    "        pet_image_web.sex[i]=sex\n",
    "    except:\n",
    "        pet_image_web.sex[i]=None\n",
    "       \n",
    "    \n",
    "    try:\n",
    "        age=str(soup.find('span', class_=\"rgtkPetDetailsAge\",id=\"rgtkPetDetailsAge_0\")).split('>')[1].split('<')[0]\n",
    "        pet_image_web.age[i]=age\n",
    "    except:\n",
    "        pet_image_web.age[i]=None\n",
    "        \n",
    "    print(i, web, sex,age, size,name)\n",
    "\n",
    "driver.quit()"
   ]
  },
  {
   "cell_type": "code",
   "execution_count": null,
   "id": "hired-grill",
   "metadata": {},
   "outputs": [],
   "source": []
  }
 ],
 "metadata": {
  "kernelspec": {
   "display_name": "Python 3",
   "language": "python",
   "name": "python3"
  },
  "language_info": {
   "codemirror_mode": {
    "name": "ipython",
    "version": 3
   },
   "file_extension": ".py",
   "mimetype": "text/x-python",
   "name": "python",
   "nbconvert_exporter": "python",
   "pygments_lexer": "ipython3",
   "version": "3.8.2"
  }
 },
 "nbformat": 4,
 "nbformat_minor": 5
}
