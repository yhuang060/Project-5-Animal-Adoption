{
 "cells": [
  {
   "cell_type": "code",
   "execution_count": 19,
   "id": "international-setup",
   "metadata": {},
   "outputs": [],
   "source": [
    "import pandas as pd\n",
    "import numpy as np\n",
    "import matplotlib.pyplot as plt\n",
    "import seaborn as sns"
   ]
  },
  {
   "cell_type": "code",
   "execution_count": 20,
   "id": "after-stone",
   "metadata": {},
   "outputs": [],
   "source": [
    "outcome= pd.read_csv(\"Austin_Animal_Center_Outcomes.csv\")\n",
    "intake= pd.read_csv(\"Austin_Animal_Center_Intakes.csv\")"
   ]
  },
  {
   "cell_type": "markdown",
   "id": "worldwide-information",
   "metadata": {},
   "source": [
    "# Review dataset and merge data"
   ]
  },
  {
   "cell_type": "code",
   "execution_count": 21,
   "id": "final-brief",
   "metadata": {},
   "outputs": [
    {
     "name": "stdout",
     "output_type": "stream",
     "text": [
      "(124491, 12)\n"
     ]
    },
    {
     "data": {
      "text/html": [
       "<div>\n",
       "<style scoped>\n",
       "    .dataframe tbody tr th:only-of-type {\n",
       "        vertical-align: middle;\n",
       "    }\n",
       "\n",
       "    .dataframe tbody tr th {\n",
       "        vertical-align: top;\n",
       "    }\n",
       "\n",
       "    .dataframe thead th {\n",
       "        text-align: right;\n",
       "    }\n",
       "</style>\n",
       "<table border=\"1\" class=\"dataframe\">\n",
       "  <thead>\n",
       "    <tr style=\"text-align: right;\">\n",
       "      <th></th>\n",
       "      <th>Animal ID</th>\n",
       "      <th>Name</th>\n",
       "      <th>DateTime</th>\n",
       "      <th>MonthYear</th>\n",
       "      <th>Date of Birth</th>\n",
       "      <th>Outcome Type</th>\n",
       "      <th>Outcome Subtype</th>\n",
       "      <th>Animal Type</th>\n",
       "      <th>Sex upon Outcome</th>\n",
       "      <th>Age upon Outcome</th>\n",
       "      <th>Breed</th>\n",
       "      <th>Color</th>\n",
       "    </tr>\n",
       "  </thead>\n",
       "  <tbody>\n",
       "    <tr>\n",
       "      <th>0</th>\n",
       "      <td>A794011</td>\n",
       "      <td>Chunk</td>\n",
       "      <td>05/08/2019 06:20:00 PM</td>\n",
       "      <td>05/08/2019 06:20:00 PM</td>\n",
       "      <td>05/02/2017</td>\n",
       "      <td>Rto-Adopt</td>\n",
       "      <td>NaN</td>\n",
       "      <td>Cat</td>\n",
       "      <td>Neutered Male</td>\n",
       "      <td>2 years</td>\n",
       "      <td>Domestic Shorthair Mix</td>\n",
       "      <td>Brown Tabby/White</td>\n",
       "    </tr>\n",
       "    <tr>\n",
       "      <th>1</th>\n",
       "      <td>A776359</td>\n",
       "      <td>Gizmo</td>\n",
       "      <td>07/18/2018 04:02:00 PM</td>\n",
       "      <td>07/18/2018 04:02:00 PM</td>\n",
       "      <td>07/12/2017</td>\n",
       "      <td>Adoption</td>\n",
       "      <td>NaN</td>\n",
       "      <td>Dog</td>\n",
       "      <td>Neutered Male</td>\n",
       "      <td>1 year</td>\n",
       "      <td>Chihuahua Shorthair Mix</td>\n",
       "      <td>White/Brown</td>\n",
       "    </tr>\n",
       "  </tbody>\n",
       "</table>\n",
       "</div>"
      ],
      "text/plain": [
       "  Animal ID   Name                DateTime               MonthYear  \\\n",
       "0   A794011  Chunk  05/08/2019 06:20:00 PM  05/08/2019 06:20:00 PM   \n",
       "1   A776359  Gizmo  07/18/2018 04:02:00 PM  07/18/2018 04:02:00 PM   \n",
       "\n",
       "  Date of Birth Outcome Type Outcome Subtype Animal Type Sex upon Outcome  \\\n",
       "0    05/02/2017    Rto-Adopt             NaN         Cat    Neutered Male   \n",
       "1    07/12/2017     Adoption             NaN         Dog    Neutered Male   \n",
       "\n",
       "  Age upon Outcome                    Breed              Color  \n",
       "0          2 years   Domestic Shorthair Mix  Brown Tabby/White  \n",
       "1           1 year  Chihuahua Shorthair Mix        White/Brown  "
      ]
     },
     "execution_count": 21,
     "metadata": {},
     "output_type": "execute_result"
    }
   ],
   "source": [
    "print(outcome.shape)\n",
    "outcome.head(2)"
   ]
  },
  {
   "cell_type": "code",
   "execution_count": 22,
   "id": "artificial-morocco",
   "metadata": {},
   "outputs": [
    {
     "name": "stdout",
     "output_type": "stream",
     "text": [
      "<class 'pandas.core.frame.DataFrame'>\n",
      "RangeIndex: 124491 entries, 0 to 124490\n",
      "Data columns (total 12 columns):\n",
      " #   Column            Non-Null Count   Dtype \n",
      "---  ------            --------------   ----- \n",
      " 0   Animal ID         124491 non-null  object\n",
      " 1   Name              85466 non-null   object\n",
      " 2   DateTime          124491 non-null  object\n",
      " 3   MonthYear         124491 non-null  object\n",
      " 4   Date of Birth     124491 non-null  object\n",
      " 5   Outcome Type      124471 non-null  object\n",
      " 6   Outcome Subtype   57308 non-null   object\n",
      " 7   Animal Type       124491 non-null  object\n",
      " 8   Sex upon Outcome  124490 non-null  object\n",
      " 9   Age upon Outcome  124486 non-null  object\n",
      " 10  Breed             124491 non-null  object\n",
      " 11  Color             124491 non-null  object\n",
      "dtypes: object(12)\n",
      "memory usage: 11.4+ MB\n"
     ]
    }
   ],
   "source": [
    "outcome.info()"
   ]
  },
  {
   "cell_type": "code",
   "execution_count": 23,
   "id": "following-sharp",
   "metadata": {},
   "outputs": [
    {
     "name": "stdout",
     "output_type": "stream",
     "text": [
      "(124120, 12)\n"
     ]
    },
    {
     "data": {
      "text/html": [
       "<div>\n",
       "<style scoped>\n",
       "    .dataframe tbody tr th:only-of-type {\n",
       "        vertical-align: middle;\n",
       "    }\n",
       "\n",
       "    .dataframe tbody tr th {\n",
       "        vertical-align: top;\n",
       "    }\n",
       "\n",
       "    .dataframe thead th {\n",
       "        text-align: right;\n",
       "    }\n",
       "</style>\n",
       "<table border=\"1\" class=\"dataframe\">\n",
       "  <thead>\n",
       "    <tr style=\"text-align: right;\">\n",
       "      <th></th>\n",
       "      <th>Animal ID</th>\n",
       "      <th>Name</th>\n",
       "      <th>DateTime</th>\n",
       "      <th>MonthYear</th>\n",
       "      <th>Found Location</th>\n",
       "      <th>Intake Type</th>\n",
       "      <th>Intake Condition</th>\n",
       "      <th>Animal Type</th>\n",
       "      <th>Sex upon Intake</th>\n",
       "      <th>Age upon Intake</th>\n",
       "      <th>Breed</th>\n",
       "      <th>Color</th>\n",
       "    </tr>\n",
       "  </thead>\n",
       "  <tbody>\n",
       "    <tr>\n",
       "      <th>0</th>\n",
       "      <td>A786884</td>\n",
       "      <td>*Brock</td>\n",
       "      <td>01/03/2019 04:19:00 PM</td>\n",
       "      <td>01/03/2019 04:19:00 PM</td>\n",
       "      <td>2501 Magin Meadow Dr in Austin (TX)</td>\n",
       "      <td>Stray</td>\n",
       "      <td>Normal</td>\n",
       "      <td>Dog</td>\n",
       "      <td>Neutered Male</td>\n",
       "      <td>2 years</td>\n",
       "      <td>Beagle Mix</td>\n",
       "      <td>Tricolor</td>\n",
       "    </tr>\n",
       "    <tr>\n",
       "      <th>1</th>\n",
       "      <td>A706918</td>\n",
       "      <td>Belle</td>\n",
       "      <td>07/05/2015 12:59:00 PM</td>\n",
       "      <td>07/05/2015 12:59:00 PM</td>\n",
       "      <td>9409 Bluegrass Dr in Austin (TX)</td>\n",
       "      <td>Stray</td>\n",
       "      <td>Normal</td>\n",
       "      <td>Dog</td>\n",
       "      <td>Spayed Female</td>\n",
       "      <td>8 years</td>\n",
       "      <td>English Springer Spaniel</td>\n",
       "      <td>White/Liver</td>\n",
       "    </tr>\n",
       "  </tbody>\n",
       "</table>\n",
       "</div>"
      ],
      "text/plain": [
       "  Animal ID    Name                DateTime               MonthYear  \\\n",
       "0   A786884  *Brock  01/03/2019 04:19:00 PM  01/03/2019 04:19:00 PM   \n",
       "1   A706918   Belle  07/05/2015 12:59:00 PM  07/05/2015 12:59:00 PM   \n",
       "\n",
       "                        Found Location Intake Type Intake Condition  \\\n",
       "0  2501 Magin Meadow Dr in Austin (TX)       Stray           Normal   \n",
       "1     9409 Bluegrass Dr in Austin (TX)       Stray           Normal   \n",
       "\n",
       "  Animal Type Sex upon Intake Age upon Intake                     Breed  \\\n",
       "0         Dog   Neutered Male         2 years                Beagle Mix   \n",
       "1         Dog   Spayed Female         8 years  English Springer Spaniel   \n",
       "\n",
       "         Color  \n",
       "0     Tricolor  \n",
       "1  White/Liver  "
      ]
     },
     "execution_count": 23,
     "metadata": {},
     "output_type": "execute_result"
    }
   ],
   "source": [
    "print(intake.shape)\n",
    "intake.head(2)"
   ]
  },
  {
   "cell_type": "code",
   "execution_count": 24,
   "id": "technological-evidence",
   "metadata": {},
   "outputs": [
    {
     "name": "stdout",
     "output_type": "stream",
     "text": [
      "<class 'pandas.core.frame.DataFrame'>\n",
      "RangeIndex: 124120 entries, 0 to 124119\n",
      "Data columns (total 12 columns):\n",
      " #   Column            Non-Null Count   Dtype \n",
      "---  ------            --------------   ----- \n",
      " 0   Animal ID         124120 non-null  object\n",
      " 1   Name              85069 non-null   object\n",
      " 2   DateTime          124120 non-null  object\n",
      " 3   MonthYear         124120 non-null  object\n",
      " 4   Found Location    124120 non-null  object\n",
      " 5   Intake Type       124120 non-null  object\n",
      " 6   Intake Condition  124120 non-null  object\n",
      " 7   Animal Type       124120 non-null  object\n",
      " 8   Sex upon Intake   124119 non-null  object\n",
      " 9   Age upon Intake   124120 non-null  object\n",
      " 10  Breed             124120 non-null  object\n",
      " 11  Color             124120 non-null  object\n",
      "dtypes: object(12)\n",
      "memory usage: 11.4+ MB\n"
     ]
    }
   ],
   "source": [
    "intake.info()"
   ]
  },
  {
   "cell_type": "markdown",
   "id": "administrative-wealth",
   "metadata": {},
   "source": [
    "# Merge Two Dataset"
   ]
  },
  {
   "cell_type": "code",
   "execution_count": 25,
   "id": "metallic-lecture",
   "metadata": {},
   "outputs": [],
   "source": [
    "#drop unuseful columns and merge intake and outcome dataset\n",
    "outcome=outcome.drop([\"MonthYear\",\"Date of Birth\",\"Outcome Subtype\"],axis=1)\n",
    "intake=intake.loc[:,[\"Animal ID\",\"Found Location\",\"Intake Type\",\"Intake Condition\"]]"
   ]
  },
  {
   "cell_type": "code",
   "execution_count": 26,
   "id": "qualified-fellow",
   "metadata": {},
   "outputs": [],
   "source": [
    "df=outcome.merge(intake, on=\"Animal ID\")"
   ]
  },
  {
   "cell_type": "code",
   "execution_count": 27,
   "id": "immune-bullet",
   "metadata": {},
   "outputs": [],
   "source": [
    "df.columns=['Animal_ID', 'Name', 'DateTime', 'Outcome_Type', 'Animal_Type',\n",
    "            'Sex', 'Age', 'Breed', 'Color','Found Location', 'Intake Type', \n",
    "            'Intake Condition']"
   ]
  },
  {
   "cell_type": "markdown",
   "id": "loved-tract",
   "metadata": {},
   "source": [
    "# Data cleaning"
   ]
  },
  {
   "cell_type": "code",
   "execution_count": 28,
   "id": "loaded-aluminum",
   "metadata": {},
   "outputs": [],
   "source": [
    "#Check NaN and remove it \n",
    "col_name=['Outcome_Type', 'Animal_Type','Sex', 'Age', 'Breed', \n",
    "          'Color', 'Intake Type', 'Intake Condition']\n",
    "for col in col_name:\n",
    "    not_NaN=list(map(lambda x: type(x)==str, df[col]))\n",
    "    df=df[not_NaN]"
   ]
  },
  {
   "cell_type": "markdown",
   "id": "recorded-richmond",
   "metadata": {},
   "source": [
    "##### 1. Age"
   ]
  },
  {
   "cell_type": "code",
   "execution_count": 31,
   "id": "latter-frontier",
   "metadata": {},
   "outputs": [
    {
     "data": {
      "text/plain": [
       "1 year      29939\n",
       "2 years     26159\n",
       "2 months    16503\n",
       "3 years     11906\n",
       "4 years      6994\n",
       "Name: Age, dtype: int64"
      ]
     },
     "execution_count": 31,
     "metadata": {},
     "output_type": "execute_result"
    }
   ],
   "source": [
    "#Different unit\n",
    "df.Age.value_counts().head()"
   ]
  },
  {
   "cell_type": "code",
   "execution_count": 32,
   "id": "emotional-companion",
   "metadata": {},
   "outputs": [],
   "source": [
    "check_type=list(map(lambda x: type(x)==str, df[\"Age\"]))\n",
    "df=df[check_type]"
   ]
  },
  {
   "cell_type": "code",
   "execution_count": 33,
   "id": "functioning-chassis",
   "metadata": {},
   "outputs": [],
   "source": [
    "#Method 1 unify unit of age (mth)\n",
    "def age_unit1(age):\n",
    "    if \"year\" in age or \"years\" in age:\n",
    "        return abs(round(int(age.split(\" \")[0])*12,2))\n",
    "    elif \"month\" in age or \"months\" in age:\n",
    "        return abs(round(int(age.split(\" \")[0]),2))\n",
    "    elif \"week\" in age or \"weeks\" in age:\n",
    "        return abs(round(int(age.split(\" \")[0])/4,2))\n",
    "    else:\n",
    "        return abs(round(int(age.split(\" \")[0])/4/7,2))"
   ]
  },
  {
   "cell_type": "code",
   "execution_count": 34,
   "id": "closing-economy",
   "metadata": {},
   "outputs": [],
   "source": [
    "#Method 2 unify unit of age (year)\n",
    "def age_unit2(age):\n",
    "    if \"year\" in age or \"years\" in age:\n",
    "        return abs(round(int(age.split(\" \")[0])))\n",
    "    elif \"month\" in age or \"months\" in age:\n",
    "        return abs(round(int(age.split(\" \")[0])/12))\n",
    "    elif \"week\" in age or \"weeks\" in age:\n",
    "        return abs(round(int(age.split(\" \")[0])/48))\n",
    "    else:\n",
    "        return abs(round(int(age.split(\" \")[0])/48/7))"
   ]
  },
  {
   "cell_type": "code",
   "execution_count": 35,
   "id": "parental-crest",
   "metadata": {},
   "outputs": [],
   "source": [
    "#Method 3 unify unit of age (week)\n",
    "def age_unit3(age):\n",
    "    if \"year\" in age or \"years\" in age:\n",
    "        return abs(round(int(age.split(\" \")[0])*12*4))\n",
    "    elif \"month\" in age or \"months\" in age:\n",
    "        return abs(round(int(age.split(\" \")[0])*4))\n",
    "    elif \"week\" in age or \"weeks\" in age:\n",
    "        return abs(round(int(age.split(\" \")[0])))\n",
    "    else:\n",
    "        return abs(round(int(age.split(\" \")[0])/7))"
   ]
  },
  {
   "cell_type": "code",
   "execution_count": 36,
   "id": "clear-ontario",
   "metadata": {},
   "outputs": [],
   "source": [
    "df['Age_new']=df.Age.apply(age_unit3)"
   ]
  },
  {
   "cell_type": "code",
   "execution_count": 40,
   "id": "multiple-appliance",
   "metadata": {},
   "outputs": [
    {
     "data": {
      "text/plain": [
       "(array([1.16342e+05, 1.89060e+04, 1.35500e+04, 5.07900e+03, 4.53300e+03,\n",
       "        1.21600e+03, 6.53000e+02, 8.50000e+01, 2.60000e+01, 3.00000e+00]),\n",
       " array([   0.,  120.,  240.,  360.,  480.,  600.,  720.,  840.,  960.,\n",
       "        1080., 1200.]),\n",
       " <BarContainer object of 10 artists>)"
      ]
     },
     "execution_count": 40,
     "metadata": {},
     "output_type": "execute_result"
    },
    {
     "data": {
      "image/png": "[encoded data removed]",
      "text/plain": [
       "<Figure size 432x288 with 1 Axes>"
      ]
     },
     "metadata": {
      "needs_background": "light"
     },
     "output_type": "display_data"
    }
   ],
   "source": [
    "plt.hist(df['Age_new'])"
   ]
  },
  {
   "cell_type": "markdown",
   "id": "spread-worship",
   "metadata": {},
   "source": [
    "##### Type"
   ]
  },
  {
   "cell_type": "code",
   "execution_count": 41,
   "id": "split-buffalo",
   "metadata": {},
   "outputs": [
    {
     "data": {
      "text/plain": [
       "Dog          102095\n",
       "Cat           51045\n",
       "Other          6649\n",
       "Bird            585\n",
       "Livestock        19\n",
       "Name: Animal_Type, dtype: int64"
      ]
     },
     "execution_count": 41,
     "metadata": {},
     "output_type": "execute_result"
    }
   ],
   "source": [
    "# only keep animal type dog and cat\n",
    "df.Animal_Type.value_counts()"
   ]
  },
  {
   "cell_type": "code",
   "execution_count": 42,
   "id": "laughing-requirement",
   "metadata": {},
   "outputs": [
    {
     "data": {
      "text/plain": [
       "Dog    102095\n",
       "Cat     51045\n",
       "Name: Animal_Type, dtype: int64"
      ]
     },
     "execution_count": 42,
     "metadata": {},
     "output_type": "execute_result"
    }
   ],
   "source": [
    "df=df[(df.Animal_Type==\"Dog\") | (df.Animal_Type==\"Cat\")]\n",
    "df.Animal_Type.value_counts()"
   ]
  },
  {
   "cell_type": "markdown",
   "id": "steady-minutes",
   "metadata": {},
   "source": [
    "##### Sex"
   ]
  },
  {
   "cell_type": "code",
   "execution_count": 43,
   "id": "lightweight-traffic",
   "metadata": {},
   "outputs": [
    {
     "data": {
      "text/plain": [
       "Neutered Male    62230\n",
       "Spayed Female    52654\n",
       "Intact Male      17500\n",
       "Intact Female    16401\n",
       "Unknown           4355\n",
       "Name: Sex, dtype: int64"
      ]
     },
     "execution_count": 43,
     "metadata": {},
     "output_type": "execute_result"
    }
   ],
   "source": [
    "df.Sex.value_counts()"
   ]
  },
  {
   "cell_type": "code",
   "execution_count": 44,
   "id": "quantitative-transsexual",
   "metadata": {},
   "outputs": [
    {
     "data": {
      "text/plain": [
       "True     114884\n",
       "False     38256\n",
       "Name: Neutered_Spayed, dtype: int64"
      ]
     },
     "execution_count": 44,
     "metadata": {},
     "output_type": "execute_result"
    }
   ],
   "source": [
    "check_type=list(map(lambda x: type(x)!=str, df[\"Sex\"]))\n",
    "df.Sex[check_type]='Unknown'\n",
    "df['Neutered_Spayed']=[True if 'Neutered' in x or 'Spayed' in x else False\n",
    "                       for x in df['Sex']]\n",
    "df.Neutered_Spayed.value_counts()"
   ]
  },
  {
   "cell_type": "code",
   "execution_count": 45,
   "id": "worth-fitness",
   "metadata": {},
   "outputs": [
    {
     "data": {
      "text/plain": [
       "Male      79730\n",
       "Female    69055\n",
       "Name: Sex, dtype: int64"
      ]
     },
     "execution_count": 45,
     "metadata": {},
     "output_type": "execute_result"
    }
   ],
   "source": [
    "df=df[df.Sex!='Unknown']\n",
    "def m_f(sex):\n",
    "    if 'Female' in sex:\n",
    "        return 'Female'\n",
    "    else:\n",
    "        return 'Male'\n",
    "df['Sex']=['Female' if 'Female' in x else 'Male'for x in df['Sex']]\n",
    "df.Sex.value_counts()"
   ]
  },
  {
   "cell_type": "markdown",
   "id": "raised-keeping",
   "metadata": {},
   "source": [
    "##### Color"
   ]
  },
  {
   "cell_type": "code",
   "execution_count": 46,
   "id": "musical-discipline",
   "metadata": {},
   "outputs": [
    {
     "data": {
      "text/plain": [
       "Black/White               16689\n",
       "Black                     11049\n",
       "Brown Tabby                6934\n",
       "Brown/White                5894\n",
       "Tan/White                  5569\n",
       "                          ...  \n",
       "Gray Tabby/Brown Tabby        1\n",
       "Lynx Point/Tan                1\n",
       "Black Smoke/Black             1\n",
       "Blue Cream/Blue Tiger         1\n",
       "White/Agouti                  1\n",
       "Name: Color, Length: 553, dtype: int64"
      ]
     },
     "execution_count": 46,
     "metadata": {},
     "output_type": "execute_result"
    }
   ],
   "source": [
    "df['Color'].value_counts()"
   ]
  },
  {
   "cell_type": "code",
   "execution_count": 47,
   "id": "charming-rachel",
   "metadata": {},
   "outputs": [],
   "source": [
    "def set_order(color):\n",
    "    if '/' in color:\n",
    "        x=color.split('/')\n",
    "        x.sort()\n",
    "        first=x[0].split(' ')[0]\n",
    "        second=x[1].split(' ')[0]\n",
    "        if first==second:\n",
    "            return first\n",
    "        else:\n",
    "            return first+'/'+ second\n",
    "    else:\n",
    "        return color.split(' ')[0]\n",
    "df.Color=df.Color.apply(set_order)"
   ]
  },
  {
   "cell_type": "code",
   "execution_count": 48,
   "id": "earlier-profile",
   "metadata": {},
   "outputs": [
    {
     "data": {
      "text/plain": [
       "Black/White       21702\n",
       "Brown/White       18075\n",
       "Brown             12342\n",
       "Black             11809\n",
       "Tan/White          8224\n",
       "                  ...  \n",
       "Cream/Tortie          1\n",
       "Chocolate/Gold        1\n",
       "Apricot/Tan           1\n",
       "Seal/Tortie           1\n",
       "Cream/Fawn            1\n",
       "Name: Color, Length: 195, dtype: int64"
      ]
     },
     "execution_count": 48,
     "metadata": {},
     "output_type": "execute_result"
    }
   ],
   "source": [
    "df['Color'].value_counts()"
   ]
  },
  {
   "cell_type": "code",
   "execution_count": 49,
   "id": "copyrighted-target",
   "metadata": {},
   "outputs": [
    {
     "data": {
      "text/plain": [
       "Black/White     21702\n",
       "Brown/White     18075\n",
       "Brown           12342\n",
       "Black           11809\n",
       "Tan/White        8224\n",
       "                ...  \n",
       "Black/Tortie       34\n",
       "Brown/Fawn         33\n",
       "Brown/Silver       32\n",
       "Blue/Tortie        31\n",
       "Blue/Gray          31\n",
       "Name: Color_new, Length: 82, dtype: int64"
      ]
     },
     "execution_count": 49,
     "metadata": {},
     "output_type": "execute_result"
    }
   ],
   "source": [
    "unique_color=pd.DataFrame(df.Color.value_counts())\n",
    "unique_color_lst=unique_color.index[unique_color.Color<30]\n",
    "\n",
    "def unique_col(color):\n",
    "    if color in unique_color_lst:\n",
    "        return 'unique color'\n",
    "    else:\n",
    "        return color\n",
    "df['Color_new']=df.Color.apply(unique_col)\n",
    "df.Color_new.value_counts()"
   ]
  },
  {
   "cell_type": "markdown",
   "id": "australian-default",
   "metadata": {},
   "source": [
    "### Mix"
   ]
  },
  {
   "cell_type": "code",
   "execution_count": 50,
   "id": "powered-alberta",
   "metadata": {},
   "outputs": [],
   "source": [
    "df['Mix']=[True if ('/' in x) or ('Mix' in x) \n",
    "           else False for x in df[\"Breed\"]]"
   ]
  },
  {
   "cell_type": "code",
   "execution_count": 51,
   "id": "naughty-boost",
   "metadata": {},
   "outputs": [
    {
     "data": {
      "text/plain": [
       "True     127162\n",
       "False     21623\n",
       "Name: Mix, dtype: int64"
      ]
     },
     "execution_count": 51,
     "metadata": {},
     "output_type": "execute_result"
    }
   ],
   "source": [
    "df['Mix'].value_counts()"
   ]
  },
  {
   "cell_type": "markdown",
   "id": "afraid-notification",
   "metadata": {},
   "source": [
    "##### Breed"
   ]
  },
  {
   "cell_type": "code",
   "execution_count": 52,
   "id": "talented-dodge",
   "metadata": {},
   "outputs": [
    {
     "data": {
      "text/plain": [
       "Domestic Shorthair Mix                    31336\n",
       "Pit Bull Mix                              14403\n",
       "Labrador Retriever Mix                     9988\n",
       "Chihuahua Shorthair Mix                    7711\n",
       "Domestic Shorthair                         6810\n",
       "                                          ...  \n",
       "Dachshund Longhair/Rat Terrier                1\n",
       "St. Bernard Rough Coat/German Shepherd        1\n",
       "Cairn Terrier/Cardigan Welsh Corgi            1\n",
       "Miniature Poodle/Jack Russell Terrier         1\n",
       "Miniature Poodle/Italian Greyhound            1\n",
       "Name: Breed, Length: 2418, dtype: int64"
      ]
     },
     "execution_count": 52,
     "metadata": {},
     "output_type": "execute_result"
    }
   ],
   "source": [
    "df.Breed.value_counts()"
   ]
  },
  {
   "cell_type": "code",
   "execution_count": 53,
   "id": "regular-pierre",
   "metadata": {},
   "outputs": [
    {
     "data": {
      "text/plain": [
       "Domestic            44199\n",
       "Pit                 16165\n",
       "Labrador            11299\n",
       "Chihuahua            9574\n",
       "German               5829\n",
       "                    ...  \n",
       "Cavalier/Italian        1\n",
       "Chinese/Rat             1\n",
       "Cocker/Shetland         1\n",
       "Collie/Jack             1\n",
       "German/Wire             1\n",
       "Name: Breed, Length: 1334, dtype: int64"
      ]
     },
     "execution_count": 53,
     "metadata": {},
     "output_type": "execute_result"
    }
   ],
   "source": [
    "df.Breed=df.Breed.apply(set_order)\n",
    "df.Breed.value_counts()"
   ]
  },
  {
   "cell_type": "code",
   "execution_count": 54,
   "id": "possible-clause",
   "metadata": {},
   "outputs": [
    {
     "data": {
      "text/plain": [
       "Domestic               44199\n",
       "Pit                    16165\n",
       "Labrador               11299\n",
       "Chihuahua               9574\n",
       "German                  5829\n",
       "                       ...  \n",
       "Labrador/Queensland       31\n",
       "Border/Dachshund          31\n",
       "Golden/Great              31\n",
       "Australian/Plott          31\n",
       "Domestic/Siamese          30\n",
       "Name: Breed_new, Length: 215, dtype: int64"
      ]
     },
     "execution_count": 54,
     "metadata": {},
     "output_type": "execute_result"
    }
   ],
   "source": [
    "unique_Breed=pd.DataFrame(df.Breed.value_counts())\n",
    "unique_Breed_lst=unique_Breed.index[unique_Breed.Breed<30]\n",
    "\n",
    "def unique_Breed(Breed):\n",
    "    if Breed in unique_Breed_lst:\n",
    "        return 'unique Breed'\n",
    "    else:\n",
    "        return Breed\n",
    "df['Breed_new']=df.Breed.apply(unique_Breed)\n",
    "df.Breed_new.value_counts()"
   ]
  },
  {
   "cell_type": "markdown",
   "id": "completed-february",
   "metadata": {},
   "source": [
    "### Outcome"
   ]
  },
  {
   "cell_type": "code",
   "execution_count": 55,
   "id": "capital-calculation",
   "metadata": {},
   "outputs": [
    {
     "data": {
      "text/plain": [
       "Adoption           71625\n",
       "Return to Owner    35810\n",
       "Transfer           35325\n",
       "Euthanasia          3699\n",
       "Rto-Adopt           1326\n",
       "Died                 835\n",
       "Missing               86\n",
       "Disposal              77\n",
       "Relocate               2\n",
       "Name: Outcome_Type, dtype: int64"
      ]
     },
     "execution_count": 55,
     "metadata": {},
     "output_type": "execute_result"
    }
   ],
   "source": [
    "df.Outcome_Type.value_counts()"
   ]
  },
  {
   "cell_type": "code",
   "execution_count": 56,
   "id": "resident-content",
   "metadata": {},
   "outputs": [
    {
     "name": "stderr",
     "output_type": "stream",
     "text": [
      "<ipython-input-56-6679eb971eb5>:2: SettingWithCopyWarning: \n",
      "A value is trying to be set on a copy of a slice from a DataFrame\n",
      "\n",
      "See the caveats in the documentation: https://pandas.pydata.org/pandas-docs/stable/user_guide/indexing.html#returning-a-view-versus-a-copy\n",
      "  df['Outcome'][(df.Outcome_Type==\"Adoption\")#|(df.Outcome_Type==\"Return to Owner\")\n",
      "<ipython-input-56-6679eb971eb5>:10: SettingWithCopyWarning: \n",
      "A value is trying to be set on a copy of a slice from a DataFrame\n",
      "\n",
      "See the caveats in the documentation: https://pandas.pydata.org/pandas-docs/stable/user_guide/indexing.html#returning-a-view-versus-a-copy\n",
      "  df['Outcome'][(df.Outcome_Type==\"Euthanasia\")#|(df.Outcome_Type==\"Died\")|\n"
     ]
    }
   ],
   "source": [
    "df['Outcome']=df['Outcome_Type']\n",
    "df['Outcome'][(df.Outcome_Type==\"Adoption\")#|(df.Outcome_Type==\"Return to Owner\")\n",
    "              #|(df.Outcome_Type==\"Rto-Adopt\")\n",
    "             ]='Adopted'\n",
    "\n",
    "#df['Outcome'][(df.Outcome_Type==\"Return to Owner\")\n",
    "#              |(df.Outcome_Type==\"Rto-Adopt\")]='Adopted'\n",
    "\n",
    "\n",
    "df['Outcome'][(df.Outcome_Type==\"Euthanasia\")#|(df.Outcome_Type==\"Died\")|\n",
    "              #(df.Outcome_Type==\"Disposal\")\n",
    "             ]='Euthanasia'"
   ]
  },
  {
   "cell_type": "code",
   "execution_count": 57,
   "id": "found-participation",
   "metadata": {},
   "outputs": [],
   "source": [
    "df=df[(df.Outcome==\"Adopted\")|\n",
    "      #(df.Outcome==\"Return to Owner\")|\n",
    "       (df.Outcome==\"Euthanasia\")\n",
    "     ]"
   ]
  },
  {
   "cell_type": "code",
   "execution_count": 58,
   "id": "discrete-married",
   "metadata": {},
   "outputs": [
    {
     "data": {
      "text/plain": [
       "Adopted       71625\n",
       "Euthanasia     3699\n",
       "Name: Outcome, dtype: int64"
      ]
     },
     "execution_count": 58,
     "metadata": {},
     "output_type": "execute_result"
    }
   ],
   "source": [
    "df.Outcome.value_counts()"
   ]
  },
  {
   "cell_type": "code",
   "execution_count": 59,
   "id": "wrong-accessory",
   "metadata": {},
   "outputs": [
    {
     "name": "stderr",
     "output_type": "stream",
     "text": [
      "<ipython-input-59-cc036ee4dd38>:2: SettingWithCopyWarning: \n",
      "A value is trying to be set on a copy of a slice from a DataFrame\n",
      "\n",
      "See the caveats in the documentation: https://pandas.pydata.org/pandas-docs/stable/user_guide/indexing.html#returning-a-view-versus-a-copy\n",
      "  df.Outcome[df.Outcome=='Euthanasia']=1\n"
     ]
    }
   ],
   "source": [
    "df.Outcome[df.Outcome=='Adopted']=0\n",
    "df.Outcome[df.Outcome=='Euthanasia']=1\n",
    "#targe_y.Outcome[targe_y.Outcome=='Return to Owner']=2\n",
    "df.Outcome=df.Outcome.astype('int')"
   ]
  },
  {
   "cell_type": "markdown",
   "id": "native-trunk",
   "metadata": {},
   "source": [
    "### Save file for plot on Tableau/Model"
   ]
  },
  {
   "cell_type": "code",
   "execution_count": 61,
   "id": "subjective-interest",
   "metadata": {},
   "outputs": [],
   "source": [
    "df.to_csv(\"updated_dataframe.csv\")"
   ]
  },
  {
   "cell_type": "code",
   "execution_count": null,
   "id": "proud-watson",
   "metadata": {},
   "outputs": [],
   "source": []
  }
 ],
 "metadata": {
  "kernelspec": {
   "display_name": "Python 3",
   "language": "python",
   "name": "python3"
  },
  "language_info": {
   "codemirror_mode": {
    "name": "ipython",
    "version": 3
   },
   "file_extension": ".py",
   "mimetype": "text/x-python",
   "name": "python",
   "nbconvert_exporter": "python",
   "pygments_lexer": "ipython3",
   "version": "3.8.2"
  }
 },
 "nbformat": 4,
 "nbformat_minor": 5
}
